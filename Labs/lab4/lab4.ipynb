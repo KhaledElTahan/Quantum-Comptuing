{
  "cells": [
    {
      "cell_type": "markdown",
      "metadata": {
        "id": "qi_7YAUiHlc3"
      },
      "source": [
        "<table align=\"center\">\n",
        "  <td align=\"center\"><a target=\"_blank\" href=\"https://colab.research.google.com/github/KhaledElTahan/Quantum-Computing/blob/master/Labs/lab4/lab4.ipynb\">\n",
        "        <img src=\"http://introtodeeplearning.com/images/colab/colab.png?v2.0\"  style=\"padding-bottom:5px;\" />Run in Google Colab</a></td>\n",
        "</table>\n",
        "\n",
        "# Lab4: Qiskit - Quantum Deutsch Jozsa\n",
        "\n",
        "# 1. Objective\n",
        "*   Review quantum Deutsch Jozsa implementation \n",
        "*   Learn how to implement a quantum circuit that implements quantum Deutsch Jozsa algorithm.\n",
        "\n",
        "# 2. Qiskit\n",
        "First you need to install Qiskit using the following command.\n"
      ]
    },
    {
      "cell_type": "code",
      "execution_count": null,
      "metadata": {
        "id": "uuTVqFomHjnY"
      },
      "outputs": [],
      "source": [
        "!pip install qiskit\n",
        "!pip install pylatexenc"
      ]
    },
    {
      "cell_type": "markdown",
      "metadata": {
        "id": "DvlIE3JHKIUE"
      },
      "source": [
        "\n",
        "# 3. Import the following libraries\n",
        "To work with Qiskit, you need to import the important libraries e.g.\n",
        "\n",
        "QuantumRegister to define the quantum registers that holds the qubits, ClassicalRegister that holds the classical bits, and QuantumCircuit to define your own circuit.\n",
        "\n",
        "Also, you need to import the visualization and the excusion libraries."
      ]
    },
    {
      "cell_type": "code",
      "execution_count": null,
      "metadata": {
        "id": "MxgWqIBIKGkn"
      },
      "outputs": [],
      "source": [
        "from qiskit import QuantumRegister, ClassicalRegister, QuantumCircuit\n",
        "from qiskit import Aer, execute\n",
        "from qiskit.tools.visualization import plot_histogram\n",
        "\n",
        "Resource on Deutsch Jozsa: https://github.com/DavitKhach/quantum-algorithms-tutorials/blob/master/quantum_parallelism_Deutsch_Jozsa.ipynb\n"
      ]
    }
  ],
  "metadata": {
    "colab": {
      "collapsed_sections": [],
      "name": "QC - Assignment IV.ipynb",
      "provenance": []
    },
    "kernelspec": {
      "display_name": "Python 3",
      "name": "python3"
    },
    "language_info": {
      "name": "python"
    }
  },
  "nbformat": 4,
  "nbformat_minor": 0
}
