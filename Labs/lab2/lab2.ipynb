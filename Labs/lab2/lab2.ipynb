{
  "cells": [
    {
      "cell_type": "markdown",
      "metadata": {
        "id": "G3G2EA457RY-"
      },
      "source": [
        "<table align=\"center\">\n",
        "  <td align=\"center\"><a target=\"_blank\" href=\"https://colab.research.google.com/github/KhaledElTahan/Quantum-Computing/blob/main/Labs/lab2/lab2.ipynb\">\n",
        "        <img src=\"http://introtodeeplearning.com/images/colab/colab.png?v2.0\"  style=\"padding-bottom:5px;\" />Run in Google Colab</a></td>\n",
        "</table>\n",
        "\n",
        "# Lab2: Qiskit - Introduction\n",
        "\n",
        "## 2.1 Problem Statement\n",
        "\n",
        "You're required to build and run NAND, XOR classical circuits, using Toffoli quantum gate (CCX) and different initial qubit values.\n",
        "\n",
        "![Toffoli Quantum Gate](Toffoli.png)\n"
      ]
    },
    {
      "cell_type": "markdown",
      "metadata": {},
      "source": [
        "## 2.2 Problem Details\n",
        "### 2.2.1 Environment Preparation\n",
        "Install the Required Packages."
      ]
    },
    {
      "cell_type": "code",
      "execution_count": null,
      "metadata": {
        "id": "kXTZXO0t7DqU"
      },
      "outputs": [],
      "source": [
        "!pip install qiskit\n",
        "!pip install pylatexenc"
      ]
    },
    {
      "cell_type": "markdown",
      "metadata": {
        "id": "IY2lrDel7dpx"
      },
      "source": [
        "\n",
        "### 2.2.2 Import the following libraries\n",
        "\n",
        "We import the following:\n",
        "* [QuantumRegister](https://qiskit.org/documentation/stubs/qiskit.circuit.QuantumRegister.html): A register memory that holds the qubit.\n",
        "* [ClassicalRegister](https://qiskit.org/documentation/stubs/qiskit.circuit.ClassicalRegister.html): A register memory that holds the classical bit.\n",
        "* [QuantumCircuit](https://qiskit.org/documentation/stubs/qiskit.circuit.QuantumCircuit.html): The fundamental unit of Qiskit, used to apply operations on qubits/bits on the input registers.\n",
        "* [Aer](https://qiskit.org/documentation/tutorials/simulators/1_aer_provider.html): The Aer provider contains a variety of high performance simulator backends for a variety of methods, used for quantum simulation on classical machines."
      ]
    },
    {
      "cell_type": "code",
      "execution_count": null,
      "metadata": {
        "id": "l99AklDz7nGT"
      },
      "outputs": [],
      "source": [
        "from qiskit import QuantumRegister, ClassicalRegister, QuantumCircuit\n",
        "from qiskit import Aer, execute\n",
        "from qiskit.visualization import plot_histogram\n",
        "\n",
        "%matplotlib inline"
      ]
    },
    {
      "cell_type": "markdown",
      "metadata": {
        "id": "uXYfTaeC7wIN"
      },
      "source": [
        "\n",
        "### 2.2.3 Define Circuits\n",
        "The following code defines three-qubits quantum circuit that implements the AND gate using Toffoli gate (ccx in Qiskit).\n",
        "\n",
        "![And Gate Using Toffoli Quantum Gate](AND.png)"
      ]
    },
    {
      "cell_type": "code",
      "execution_count": null,
      "metadata": {
        "id": "YddHCJUr8Gb_"
      },
      "outputs": [],
      "source": [
        "def AND_circuit(x, y):\n",
        "    \"\"\"\n",
        "    This method creates AND circuit by using Toffoli gate (CCX).\n",
        "    Input:\n",
        "        x (int): 0 or 1\n",
        "        y (int): 0 or 1\n",
        "    \"\"\"\n",
        "    q = QuantumRegister(3) # three qubits quantum register\n",
        "    c = ClassicalRegister(3) # three bits classical register\n",
        "    qc = QuantumCircuit(q, c) # create circuit\n",
        "\n",
        "    # By default initial values are |0> for all qubits, but you can initialize qubits with any value as following:\n",
        "    initial_state = [1, 0]  # Initial state vector; [1, 0] means |0> and, [0, 1] means |1>\n",
        "    qc.initialize(initial_state, 2) # initialize the third qubit at index 2 to be |0>\n",
        "\n",
        "    if x == 1:\n",
        "        qc.initialize([0, 1], 0)\n",
        "\n",
        "    if y == 1:\n",
        "        qc.initialize([0, 1], 1)\n",
        "\n",
        "    qc.ccx(0, 1, 2) # Apply Toffoli gate (expressed as ccx in Qiskit)\n",
        "    qc.measure(q, c) # measure qubits and store the result into the classical bits\n",
        "    \n",
        "    return qc, \"AND Gate ({}, {})\".format(x, y)"
      ]
    },
    {
      "cell_type": "code",
      "execution_count": null,
      "metadata": {},
      "outputs": [],
      "source": [
        "def NAND_circuit(x, y):\n",
        "    \"\"\"\n",
        "    This method creates NAND circuit by using Toffoli gate (CCX).\n",
        "    Input:\n",
        "        x (int): 0 or 1\n",
        "        y (int): 0 or 1\n",
        "    \"\"\"\n",
        "    \n",
        "    # \"\"\"TODO: Implement this method\"\"\"\n",
        "    \n",
        "    return None, \"NAND Gate ({}, {})\".format(x, y)"
      ]
    },
    {
      "cell_type": "code",
      "execution_count": null,
      "metadata": {},
      "outputs": [],
      "source": [
        "def XOR_circuit(x, y):\n",
        "    \"\"\"\n",
        "    This method creates XOR circuit by using Toffoli gate (CCX).\n",
        "    Input:\n",
        "        x (int): 0 or 1\n",
        "        y (int): 0 or 1\n",
        "    \"\"\"\n",
        "    \n",
        "    # \"\"\"TODO: Implement this method\"\"\"\n",
        "    \n",
        "    return None, \"XOR Gate ({}, {})\".format(x, y)"
      ]
    },
    {
      "cell_type": "markdown",
      "metadata": {
        "id": "OWZqYEMf8U6H"
      },
      "source": [
        "### 2.2.4 Test your circuits\n",
        "\n",
        "The following code executes the defined quantum circuits and draw a histogram for each result.\n",
        "\n",
        "**TODO**:\n",
        "1. The backend is qasm_simulator, what will change to run it on a real quantum computer?\n",
        "2. Number of shots is 1024, why do we need to execute many shots?\n",
        "3. Why we need to use a histogram?"
      ]
    },
    {
      "cell_type": "code",
      "execution_count": null,
      "metadata": {
        "id": "kdtIzzvJylwU"
      },
      "outputs": [],
      "source": [
        "backend_simulator = Aer.get_backend('qasm_simulator')\n",
        "\n",
        "circuits = [AND_circuit, NAND_circuit, XOR_circuit]\n",
        "\n",
        "for circuit in circuits:\n",
        "    for x in [0, 1]:\n",
        "        for y in [0, 1]:\n",
        "            qc, circuit_name = circuit(x, y)\n",
        "\n",
        "            # Visulaize the circuit\n",
        "            print(circuit_name + \":\")\n",
        "            print(qc)\n",
        "            qc.draw('mpl')\n",
        "\n",
        "            job = execute(qc, backend_simulator, shots=1024)\n",
        "            result = job.result()\n",
        "\n",
        "            print(result.get_counts())\n",
        "            plot_histogram(result.get_counts(), title=circuit_name)\n",
        "\n",
        "            print()"
      ]
    },
    {
      "cell_type": "markdown",
      "metadata": {
        "id": "yPQ7c1UOPKDW"
      },
      "source": [
        "## 2.3 Conclusion:\n",
        "\n",
        "That's it! Congratulations on finishing your first Qiskit lab. \n",
        "\n",
        "Make sure you deliver the filled ipython notebook (with output cells) and the answer to the provided questions via the submission form."
      ]
    }
  ],
  "metadata": {
    "colab": {
      "collapsed_sections": [],
      "name": "QC - Lab II.ipynb",
      "provenance": []
    },
    "kernelspec": {
      "display_name": "Python 3",
      "name": "python3"
    },
    "language_info": {
      "codemirror_mode": {
        "name": "ipython",
        "version": 3
      },
      "file_extension": ".py",
      "mimetype": "text/x-python",
      "name": "python",
      "nbconvert_exporter": "python",
      "pygments_lexer": "ipython3",
      "version": "3.8.8"
    }
  },
  "nbformat": 4,
  "nbformat_minor": 0
}
