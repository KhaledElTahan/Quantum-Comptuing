{
  "cells": [
    {
      "cell_type": "markdown",
      "metadata": {
        "id": "qi_7YAUiHlc3"
      },
      "source": [
        "<table align=\"center\">\n",
        "  <td align=\"center\"><a target=\"_blank\" href=\"https://colab.research.google.com/github/KhaledElTahan/Quantum-Computing/blob/main/Labs/lab3/lab3.ipynb\">\n",
        "        <img src=\"http://introtodeeplearning.com/images/colab/colab.png?v2.0\"  style=\"padding-bottom:5px;\" />Run in Google Colab</a></td>\n",
        "</table>\n",
        "\n",
        "# Lab3: Qiskit - Quantum Teleportation\n",
        "\n",
        "## 3.1 Problem Statement\n",
        "\n",
        "You're required to build a quantum circuit to simulate quantum teleportation with Qiskit as follows:\n",
        "\n",
        "![Qauntum Teleportation Circuit](quantum-teleportation-qiskit.png)\n",
        "\n",
        "Assume we want to send a quantum bit from Alice to Bob, to do that, Alice and Bob must use a third party (Eve) to send them an entangled qubit pair (one for Alice, one for Bob). Alice then performs some operations on her qubit, sends the results to Bob over a classical communication channel, and Bob then performs some operations on his end to receive Alice’s qubit.\n",
        "\n"
      ]
    },
    {
      "cell_type": "markdown",
      "metadata": {},
      "source": [
        "## 3.2 Problem Details\n",
        "\n",
        "### 3.2.1 Environment Preparation\n",
        "\n",
        "Install the Required Packages."
      ]
    },
    {
      "cell_type": "code",
      "execution_count": null,
      "metadata": {
        "id": "uuTVqFomHjnY"
      },
      "outputs": [],
      "source": [
        "!pip install qiskit\n",
        "!pip install pylatexenc"
      ]
    },
    {
      "cell_type": "markdown",
      "metadata": {
        "id": "DvlIE3JHKIUE"
      },
      "source": [
        "\n",
        "### 3.2.2 Import the following libraries"
      ]
    },
    {
      "cell_type": "code",
      "execution_count": null,
      "metadata": {
        "id": "QVP_PeU1gv-f"
      },
      "outputs": [],
      "source": [
        "import numpy as np\n",
        "from qiskit import QuantumCircuit, QuantumRegister, ClassicalRegister, execute, BasicAer, IBMQ\n",
        "from qiskit.visualization import plot_histogram, plot_bloch_multivector"
      ]
    },
    {
      "cell_type": "markdown",
      "metadata": {
        "id": "H_VWNTqQna4d"
      },
      "source": [
        "### 3.2.3 Create the quantum teleportation circuit\n",
        "\n",
        "Assume a third party Eve, creates an entangled pair of qubits and gives one to Bob and one to Alice."
      ]
    },
    {
      "cell_type": "code",
      "execution_count": null,
      "metadata": {
        "id": "VXWpAAMLhgDV"
      },
      "outputs": [],
      "source": [
        "# In our case, Eve entangles qubits a and b\n",
        "def eve_create_bell_pair(qc, a, b):\n",
        "    \"\"\"Creates a bell pair in qc using qubits a & b\"\"\"\n",
        "    "
      ]
    },
    {
      "cell_type": "markdown",
      "metadata": {
        "id": "b0P4NwZ5n__S"
      },
      "source": [
        "Let's say Alice owns $a$ and Bob owns $b$ after they part ways.\n",
        "\n",
        "Alice then applies a CNOT gate to $a$ controlled by $\\vert\\psi\\rangle$ (the qubit she is trying to send Bob). Then Alice applies a Hadamard gate to $|\\psi\\rangle$.\n",
        "\n"
      ]
    },
    {
      "cell_type": "code",
      "execution_count": null,
      "metadata": {
        "id": "OJ1oW-ZYn-0i"
      },
      "outputs": [],
      "source": [
        "def alice_operations(qc, psi, a):\n",
        "    # operations in Alice side\n",
        "    "
      ]
    },
    {
      "cell_type": "markdown",
      "metadata": {
        "id": "n7oWpMa-o2RH"
      },
      "source": [
        "Next, Alice applies a measurement to both qubits that she owns, $\\vert\\psi\\rangle$ and $a$, and stores this result in two classical bits. She then sends these two classical bits to Bob."
      ]
    },
    {
      "cell_type": "code",
      "execution_count": null,
      "metadata": {
        "id": "RqIpZy2fo4I5"
      },
      "outputs": [],
      "source": [
        "def alice_measure_and_send(qc, psi, a):\n",
        "    \"\"\"Measures qubits psi & a and 'sends' the results to Bob\"\"\"\n",
        "    "
      ]
    },
    {
      "cell_type": "markdown",
      "metadata": {
        "id": "KDda2MbCpJSE"
      },
      "source": [
        "Bob, who already has the qubit $b$, then applies the following gates depending on the state of the classical bits (sent by Alice):\n",
        "\n",
        "00 $\\rightarrow$ Do nothing\n",
        "\n",
        "01 $\\rightarrow$ Apply $X$ gate\n",
        "\n",
        "10 $\\rightarrow$ Apply $Z$ gate\n",
        "\n",
        "11 $\\rightarrow$ Apply $ZX$ gate"
      ]
    },
    {
      "cell_type": "code",
      "execution_count": null,
      "metadata": {
        "id": "DB2uAVQcpZSi"
      },
      "outputs": [],
      "source": [
        "# This function takes a QuantumCircuit (qc), qubit\n",
        "# and ClassicalRegisters (crz & crx) to decide which gates to apply\n",
        "def bob_operations(qc, qubit, crz, crx):\n",
        "    # Use c_if to controls gates with a classical bit\n",
        "    "
      ]
    },
    {
      "cell_type": "markdown",
      "metadata": {
        "id": "BSjFgRTWvPLf"
      },
      "source": [
        "Now, Alice's qubit has now teleported to Bob.\n",
        "\n",
        "In order to test the circuit, we will initialise Alice's qubit in a random state $\\vert\\psi\\rangle$. This state will be created using an Initialize gate. Here, we define it to be in state $\\vert1\\rangle$. But feel free to set psi to any qubit state you want."
      ]
    },
    {
      "cell_type": "markdown",
      "metadata": {
        "id": "NCk7yr3Gv4wV"
      },
      "source": [
        "Let's create our initialisation gate to create $|\\psi\\rangle$ from the state $|0\\rangle$:\n"
      ]
    },
    {
      "cell_type": "code",
      "execution_count": null,
      "metadata": {
        "id": "VFd3uiOqv2fp"
      },
      "outputs": [],
      "source": [
        "from qiskit.extensions import Initialize\n",
        "psi = [0, 1] # |1>\n",
        "init_gate = Initialize(psi)"
      ]
    },
    {
      "cell_type": "markdown",
      "metadata": {
        "id": "FY3DDApUwC36"
      },
      "source": [
        "If the quantum teleportation circuit works, then at the end of the circuit the qubit $|q_2\\rangle$ will be in this state. We will check this using the statevector simulator.\n"
      ]
    },
    {
      "cell_type": "code",
      "execution_count": null,
      "metadata": {
        "colab": {
          "base_uri": "https://localhost:8080/",
          "height": 202
        },
        "id": "RfJRiDoQQeO3",
        "outputId": "02f92e5b-129c-452b-9f27-774a76c87780"
      },
      "outputs": [],
      "source": [
        "qr = QuantumRegister(3)   # Protocol uses 3 qubits\n",
        "crz = ClassicalRegister(1) # and 2 classical registers\n",
        "crx = ClassicalRegister(1)\n",
        "qc = QuantumCircuit(qr, crz, crx)\n",
        "\n",
        "# First, let's initialise Alice's q0 (psi) - the one she wants to teleport\n",
        "qc.append(init_gate, [0])\n",
        "qc.barrier()\n",
        "\n",
        "# Now Eve creates a pair of qubits q1 for Alice and q2 for Bob.\n",
        "eve_create_bell_pair(qc, 1, 2)\n",
        "qc.barrier()\n",
        "\n",
        "# Alice applies operations to her qubits  \n",
        "alice_operations(qc, 0, 1)\n",
        "\n",
        "# Alice then measures and sends her classical bits to Bob -\n",
        "alice_measure_and_send(qc, 0, 1)\n",
        "\n",
        "# Bob decodes qubits - based on the two classicl bits sent by Alice\n",
        "bob_operations(qc, 2, crz, crx)\n",
        "\n",
        "qc.draw()"
      ]
    },
    {
      "cell_type": "markdown",
      "metadata": {
        "id": "jqR06rhyQr60"
      },
      "source": [
        "We can see below, using our statevector simulator, that the state of $|q_2\\rangle$ (Bob qubit) is the same as the state $|\\psi\\rangle$ we created above, while the states of $|q_0\\rangle$ and $|q_1\\rangle$ have been collapsed to either $|0\\rangle$ or $|1\\rangle$. The state $|\\psi\\rangle$ has been teleported from qubit 0 to qubit 2.\n"
      ]
    },
    {
      "cell_type": "code",
      "execution_count": null,
      "metadata": {
        "colab": {
          "base_uri": "https://localhost:8080/",
          "height": 268
        },
        "id": "eV65nAOZQe3Y",
        "outputId": "843b9cdb-9e7a-4407-c171-57ac2768cbb8"
      },
      "outputs": [],
      "source": [
        "backend = BasicAer.get_backend('statevector_simulator')\n",
        "out_vector = execute(qc, backend).result().get_statevector()\n",
        "plot_bloch_multivector(out_vector)"
      ]
    },
    {
      "cell_type": "markdown",
      "metadata": {
        "id": "NmFNpcuhhvym"
      },
      "source": [
        "It is required to implement the following functions:\n",
        "\n",
        "1. eve_create_bell_pair\n",
        "2. alice_operations\n",
        "3. alice_measure_and_send\n",
        "4. bob_operations\n",
        "\n",
        "Try teleporting the following vectors\n",
        "\n",
        "1. |+>\n",
        "2. |->\n",
        "3. |0>\n",
        "4. |1> \n",
        "5. 0.99 |0> +  0.14106736 |1>\n",
        "6. 0.14106736 |0> +  0.99 |1>"
      ]
    },
    {
      "cell_type": "markdown",
      "metadata": {},
      "source": [
        "## 3.3 Conclusion\n",
        "\n",
        "That's it! Congratulations on finishing your second Qiskit lab.\n",
        "\n",
        "Make sure you deliver the filled ipython notebook (with output cells)."
      ]
    }
  ],
  "metadata": {
    "colab": {
      "collapsed_sections": [],
      "name": "QC-Lab III.ipynb",
      "provenance": []
    },
    "kernelspec": {
      "display_name": "Python 3",
      "name": "python3"
    },
    "language_info": {
      "name": "python"
    }
  },
  "nbformat": 4,
  "nbformat_minor": 0
}
